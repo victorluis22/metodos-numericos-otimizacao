{
 "cells": [
  {
   "cell_type": "code",
   "execution_count": 98,
   "metadata": {},
   "outputs": [],
   "source": [
    "import numpy as np\n",
    "\n",
    "def f(function, x, x1, x2, d1, d2):\n",
    "  return eval(function)\n",
    "\n",
    "def deriv_f(function, x, h, x1, x2, d1, d2):\n",
    "  return (f(function, x + h, x1, x2, d1, d2) - f(function, x - h, x1, x2, d1, d2))/(2*h)\n",
    "\n",
    "def deriv2_f(function, x, h, x1, x2, d1, d2):\n",
    "  return (f(function, x-h, x1, x2, d1, d2) + f(function, x+h, x1, x2, d1, d2) - 2*f(function, x, x1, x2, d1, d2))/(h**2)\n",
    "\n",
    "def newtonSearch(function, x, x1, x2, d1, d2):\n",
    "  lmbda = x\n",
    "  lmbda_next = 0\n",
    "  e = 10**-6\n",
    "  h = 10**-6\n",
    "  timeout = 500\n",
    "  time = 0\n",
    "\n",
    "  while time < timeout:\n",
    "    firstDeriv = deriv_f(function, lmbda, h, x1, x2, d1, d2)\n",
    "    secondDeriv = deriv2_f(function, lmbda, h, x1, x2, d1, d2)\n",
    "    lmbda_next = lmbda - (firstDeriv / secondDeriv)\n",
    "\n",
    "    if abs(lmbda_next - lmbda) < e:\n",
    "      return [lmbda_next, f(function, lmbda_next, x1, x2, d1, d2)]\n",
    "    else:\n",
    "      lmbda = lmbda_next\n",
    "\n",
    "    time += 1\n",
    "\n",
    "  raise TimeoutError(f\"Algum erro aconteceu, programa demorou muito para responder.\")"
   ]
  },
  {
   "cell_type": "code",
   "execution_count": 99,
   "metadata": {},
   "outputs": [
    {
     "name": "stdout",
     "output_type": "stream",
     "text": [
      "Iteração 0 start=[0 3] end=[3.1281739  1.56408695] ||end-start|| = 3.44199335094978 d = [ 3.1281739  -1.43591305] λ^=-0.09723359157626962\n",
      "Iteração 1 start=[2.82401032 1.70370593] end=[2.70540328 1.35270164] ||end-start|| = 0.37050187751020836 d = [-0.11860703 -0.35100429] λ^=0.21863481370358034\n",
      "Iteração 2 start=[2.67947165 1.27595988] end=[2.41202512 1.20601256] ||end-start|| = 0.2764421739860723 d = [-0.26744653 -0.06994732] λ^=0.5718224369734635\n",
      "Iteração 3 start=[2.25909319 1.16601511] end=[2.28549186 1.14274593] ||end-start|| = 0.035190116917413646 d = [ 0.02639866 -0.02326918] λ^=-0.21729602539362272\n",
      "Iteração 4 start=[2.27975553 1.14780223] end=[2.26032178 1.13016089] ||end-start|| = 0.026246665125400356 d = [-0.01943375 -0.01764134] λ^=1.7798119305780313\n",
      "Iteração 5 start=[2.22573336 1.09876263] end=[2.1848855  1.09244275] ||end-start|| = 0.04133386818726146 d = [-0.04084786 -0.00631988] λ^=0.46777035356156615\n"
     ]
    },
    {
     "data": {
      "text/plain": [
       "array([2.16927259, 1.0846363 ])"
      ]
     },
     "execution_count": 99,
     "metadata": {},
     "output_type": "execute_result"
    }
   ],
   "source": [
    "def hookeJeeves(function, initialValue, dim):\n",
    "    x1, x2 = initialValue[0], initialValue[1]\n",
    "    nextValue = np.array([\"(x1 + x*d1)\", \"(x2 + x*d2)\"])\n",
    "    nextFunc = function.replace(\"x1\", nextValue[0]).replace(\"x2\", nextValue[1])\n",
    "\n",
    "    d = np.array(\n",
    "        [[1,0], \n",
    "        [0,1]]\n",
    "    )\n",
    "\n",
    "    limit = 0.01\n",
    "    k = 0\n",
    "    timeout = 100\n",
    "    time = 0\n",
    "    \n",
    "    while time < timeout:\n",
    "        start = np.array([x1, x2])\n",
    "        end = np.array([0, 0])\n",
    "\n",
    "        for k in range(dim):          \n",
    "            d1, d2 = d[k][0], d[k][1]\n",
    "\n",
    "            [x, y] = newtonSearch(nextFunc, x1, x1, x2, d1, d2)\n",
    "\n",
    "            x1, x2 = eval(nextValue[0]), eval(nextValue[1])\n",
    "\n",
    "            if k == dim-1:\n",
    "                end = np.array([x1, x2])\n",
    "\n",
    "        resultd = end - start\n",
    "        startEndMod = np.sqrt(np.sum((resultd) ** 2))\n",
    "\n",
    "        if startEndMod < limit:\n",
    "            return end\n",
    "        \n",
    "        d1, d2 = resultd[0], resultd[1]\n",
    "\n",
    "        [x, y] = newtonSearch(nextFunc, x1, x1, x2, d1, d2)\n",
    "\n",
    "        x1, x2 = eval(nextValue[0]), eval(nextValue[1])\n",
    "\n",
    "        print(f\"Iteração {time} start={start} end={end} ||end-start|| = {startEndMod} d = {resultd} λ^={x}\")\n",
    "\n",
    "        time += 1\n",
    "    \n",
    "function = \"(x1 - 2)**4 + (x1 - 2*x2)**2\"\n",
    "initialValue = np.array([0,3])\n",
    "\n",
    "hookeJeeves(function, initialValue, 2)"
   ]
  },
  {
   "cell_type": "code",
   "execution_count": 100,
   "metadata": {},
   "outputs": [],
   "source": [
    "# functionx = \"(x1+x - 2)**4 + (x1+x - 2*x2)**4\"\n",
    "# functiony = \"(x1 - 2)**4 + (x1 - 2*(x2+x))**4\""
   ]
  }
 ],
 "metadata": {
  "kernelspec": {
   "display_name": "base",
   "language": "python",
   "name": "python3"
  },
  "language_info": {
   "codemirror_mode": {
    "name": "ipython",
    "version": 3
   },
   "file_extension": ".py",
   "mimetype": "text/x-python",
   "name": "python",
   "nbconvert_exporter": "python",
   "pygments_lexer": "ipython3",
   "version": "3.9.13"
  }
 },
 "nbformat": 4,
 "nbformat_minor": 2
}
